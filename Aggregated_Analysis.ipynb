{
 "cells": [
  {
   "cell_type": "code",
   "execution_count": 140,
   "metadata": {
    "collapsed": true
   },
   "outputs": [],
   "source": [
    "import pandas as pd\n",
    "import seaborn as sns\n",
    "import glob\n",
    "import os\n",
    "import numpy as np\n",
    "import matplotlib.pyplot as plt\n",
    "from datetime import datetime\n",
    "from matplotlib import dates\n",
    "import matplotlib.ticker as ticker\n",
    "\n",
    "%matplotlib inline"
   ]
  },
  {
   "cell_type": "code",
   "execution_count": 2,
   "metadata": {
    "collapsed": false
   },
   "outputs": [],
   "source": [
    "\n",
    "columns = 'date,payment_type,passenger_count,total_count,total_rev,tip_percent,avg_tip_percent,weekday,season,snow,rain,tavg'"
   ]
  },
  {
   "cell_type": "code",
   "execution_count": 3,
   "metadata": {
    "collapsed": true
   },
   "outputs": [],
   "source": [
    "columns = columns.strip().split(',')"
   ]
  },
  {
   "cell_type": "code",
   "execution_count": 4,
   "metadata": {
    "collapsed": false
   },
   "outputs": [],
   "source": [
    "\n",
    "path = '../data/TipByDayPaymentCount/' \n",
    "#filenames = []\n",
    "#for i in range(7):\n",
    "#    filenames.append(path + 'part-0000%s' %i)\n",
    "    \n",
    "#with open(path + '/combined', 'w') as out:\n",
    "#    for fname in filenames:\n",
    "#        with open(fname) as infile:\n",
    "#            for line in infile:\n",
    "#                key, values = line.strip().split('\\t',1)\n",
    "#                line = ','.join([key,values,'\\n'])\n",
    "#                out.write(line)\n",
    "\n"
   ]
  },
  {
   "cell_type": "code",
   "execution_count": 39,
   "metadata": {
    "collapsed": false
   },
   "outputs": [],
   "source": [
    "f = open(path + '/combined')\n",
    "a = f.readlines()"
   ]
  },
  {
   "cell_type": "code",
   "execution_count": 40,
   "metadata": {
    "collapsed": false
   },
   "outputs": [],
   "source": [
    "df = pd.read_csv(path + '/combined', header = None, usecols = np.arange(12))"
   ]
  },
  {
   "cell_type": "code",
   "execution_count": 41,
   "metadata": {
    "collapsed": false
   },
   "outputs": [],
   "source": [
    "df.columns = columns"
   ]
  },
  {
   "cell_type": "code",
   "execution_count": 42,
   "metadata": {
    "collapsed": false
   },
   "outputs": [
    {
     "data": {
      "text/html": [
       "<div>\n",
       "<table border=\"1\" class=\"dataframe\">\n",
       "  <thead>\n",
       "    <tr style=\"text-align: right;\">\n",
       "      <th></th>\n",
       "      <th>date</th>\n",
       "      <th>payment_type</th>\n",
       "      <th>passenger_count</th>\n",
       "      <th>total_count</th>\n",
       "      <th>total_rev</th>\n",
       "      <th>tip_percent</th>\n",
       "      <th>avg_tip_percent</th>\n",
       "      <th>weekday</th>\n",
       "      <th>season</th>\n",
       "      <th>snow</th>\n",
       "      <th>rain</th>\n",
       "      <th>tavg</th>\n",
       "    </tr>\n",
       "  </thead>\n",
       "  <tbody>\n",
       "    <tr>\n",
       "      <th>0</th>\n",
       "      <td>2013-12-14</td>\n",
       "      <td>UNK</td>\n",
       "      <td>6</td>\n",
       "      <td>205</td>\n",
       "      <td>3202.85</td>\n",
       "      <td>0.15</td>\n",
       "      <td>14.81</td>\n",
       "      <td>7</td>\n",
       "      <td>fall</td>\n",
       "      <td>0</td>\n",
       "      <td>0</td>\n",
       "      <td>32</td>\n",
       "    </tr>\n",
       "    <tr>\n",
       "      <th>1</th>\n",
       "      <td>2013-03-08</td>\n",
       "      <td>CRD</td>\n",
       "      <td>2</td>\n",
       "      <td>26868</td>\n",
       "      <td>422851.37</td>\n",
       "      <td>0.16</td>\n",
       "      <td>15.66</td>\n",
       "      <td>1</td>\n",
       "      <td>spring</td>\n",
       "      <td>1</td>\n",
       "      <td>0</td>\n",
       "      <td>35</td>\n",
       "    </tr>\n",
       "  </tbody>\n",
       "</table>\n",
       "</div>"
      ],
      "text/plain": [
       "         date payment_type  passenger_count  total_count  total_rev  \\\n",
       "0  2013-12-14          UNK                6          205    3202.85   \n",
       "1  2013-03-08          CRD                2        26868  422851.37   \n",
       "\n",
       "   tip_percent  avg_tip_percent  weekday  season  snow  rain  tavg  \n",
       "0         0.15            14.81        7    fall     0     0    32  \n",
       "1         0.16            15.66        1  spring     1     0    35  "
      ]
     },
     "execution_count": 42,
     "metadata": {},
     "output_type": "execute_result"
    }
   ],
   "source": [
    "df.head(2)"
   ]
  },
  {
   "cell_type": "code",
   "execution_count": 43,
   "metadata": {
    "collapsed": false
   },
   "outputs": [
    {
     "data": {
      "text/html": [
       "<div>\n",
       "<table border=\"1\" class=\"dataframe\">\n",
       "  <thead>\n",
       "    <tr style=\"text-align: right;\">\n",
       "      <th>zero_tip</th>\n",
       "      <th>0</th>\n",
       "      <th>1</th>\n",
       "    </tr>\n",
       "    <tr>\n",
       "      <th>payment_type</th>\n",
       "      <th></th>\n",
       "      <th></th>\n",
       "    </tr>\n",
       "  </thead>\n",
       "  <tbody>\n",
       "    <tr>\n",
       "      <th>CRD</th>\n",
       "      <td>1649</td>\n",
       "      <td>6</td>\n",
       "    </tr>\n",
       "    <tr>\n",
       "      <th>CSH</th>\n",
       "      <td>50</td>\n",
       "      <td>1609</td>\n",
       "    </tr>\n",
       "    <tr>\n",
       "      <th>DIS</th>\n",
       "      <td>156</td>\n",
       "      <td>862</td>\n",
       "    </tr>\n",
       "    <tr>\n",
       "      <th>NOC</th>\n",
       "      <td>243</td>\n",
       "      <td>890</td>\n",
       "    </tr>\n",
       "    <tr>\n",
       "      <th>UNK</th>\n",
       "      <td>1261</td>\n",
       "      <td>4</td>\n",
       "    </tr>\n",
       "  </tbody>\n",
       "</table>\n",
       "</div>"
      ],
      "text/plain": [
       "zero_tip         0     1\n",
       "payment_type            \n",
       "CRD           1649     6\n",
       "CSH             50  1609\n",
       "DIS            156   862\n",
       "NOC            243   890\n",
       "UNK           1261     4"
      ]
     },
     "execution_count": 43,
     "metadata": {},
     "output_type": "execute_result"
    }
   ],
   "source": [
    "df['zero_tip'] = df.avg_tip_percent.apply(lambda num: 1 if num == 0 else 0)\n",
    "pd.crosstab(df.payment_type,df.zero_tip)"
   ]
  },
  {
   "cell_type": "code",
   "execution_count": 44,
   "metadata": {
    "collapsed": true
   },
   "outputs": [],
   "source": [
    "df_clean = df.loc[df.payment_type.isin(['CRD','UNK'])]\n",
    "df_clean = df_clean[df_clean.passenger_count != 208]"
   ]
  },
  {
   "cell_type": "code",
   "execution_count": 114,
   "metadata": {
    "collapsed": false
   },
   "outputs": [
    {
     "data": {
      "text/plain": [
       "62424055"
      ]
     },
     "execution_count": 114,
     "metadata": {},
     "output_type": "execute_result"
    }
   ],
   "source": [
    "df_clean.total_count.sum()"
   ]
  },
  {
   "cell_type": "code",
   "execution_count": 113,
   "metadata": {
    "collapsed": false
   },
   "outputs": [
    {
     "data": {
      "text/plain": [
       "12"
      ]
     },
     "execution_count": 113,
     "metadata": {},
     "output_type": "execute_result"
    }
   ],
   "source": [
    "df[df.passenger_count == 208]['total_count'].sum()"
   ]
  },
  {
   "cell_type": "markdown",
   "metadata": {},
   "source": [
    "## Payment Type"
   ]
  },
  {
   "cell_type": "code",
   "execution_count": 46,
   "metadata": {
    "collapsed": false
   },
   "outputs": [
    {
     "data": {
      "text/plain": [
       "payment_type\n",
       "CRD    0.99779\n",
       "UNK    0.00221\n",
       "Name: total_count, dtype: float64"
      ]
     },
     "execution_count": 46,
     "metadata": {},
     "output_type": "execute_result"
    }
   ],
   "source": [
    "df_clean.groupby('payment_type')['total_count'].sum() / df_clean.total_count.sum()"
   ]
  },
  {
   "cell_type": "code",
   "execution_count": 47,
   "metadata": {
    "collapsed": false
   },
   "outputs": [
    {
     "data": {
      "text/plain": [
       "62424055"
      ]
     },
     "execution_count": 47,
     "metadata": {},
     "output_type": "execute_result"
    }
   ],
   "source": [
    "df_clean.total_count.sum()"
   ]
  },
  {
   "cell_type": "code",
   "execution_count": 48,
   "metadata": {
    "collapsed": false
   },
   "outputs": [
    {
     "data": {
      "text/plain": [
       "payment_type\n",
       "CRD    15.760685\n",
       "UNK    15.227019\n",
       "dtype: float64"
      ]
     },
     "execution_count": 48,
     "metadata": {},
     "output_type": "execute_result"
    }
   ],
   "source": [
    "df_clean['total_tip_percent'] = df_clean.total_count * df_clean.avg_tip_percent\n",
    "df_clean.groupby('payment_type')['total_tip_percent'].sum() / df_clean.groupby('payment_type')['total_count'].sum()"
   ]
  },
  {
   "cell_type": "code",
   "execution_count": 57,
   "metadata": {
    "collapsed": false
   },
   "outputs": [
    {
     "data": {
      "text/plain": [
       "15.75950620269699"
      ]
     },
     "execution_count": 57,
     "metadata": {},
     "output_type": "execute_result"
    }
   ],
   "source": [
    "avg_tip = df_clean.total_tip_percent.sum() / df_clean.total_count.sum()"
   ]
  },
  {
   "cell_type": "markdown",
   "metadata": {},
   "source": [
    "## Time of Year"
   ]
  },
  {
   "cell_type": "code",
   "execution_count": 49,
   "metadata": {
    "collapsed": false
   },
   "outputs": [
    {
     "data": {
      "text/plain": [
       "season\n",
       "fall      15.743499\n",
       "spring    15.730145\n",
       "summer    15.691513\n",
       "winter    15.873512\n",
       "dtype: float64"
      ]
     },
     "execution_count": 49,
     "metadata": {},
     "output_type": "execute_result"
    }
   ],
   "source": [
    "df_clean.groupby('season')['total_tip_percent'].sum() / df_clean.groupby('season')['total_count'].sum()"
   ]
  },
  {
   "cell_type": "code",
   "execution_count": 170,
   "metadata": {
    "collapsed": false
   },
   "outputs": [
    {
     "data": {
      "text/plain": [
       "(15, 16)"
      ]
     },
     "execution_count": 170,
     "metadata": {},
     "output_type": "execute_result"
    },
    {
     "data": {
      "image/png": "[encoded data removed]",
      "text/plain": [
       "<matplotlib.figure.Figure at 0x1336ed450>"
      ]
     },
     "metadata": {},
     "output_type": "display_data"
    }
   ],
   "source": [
    "grouped = df_clean.groupby('season')['total_tip_percent'].sum() / df_clean.groupby('season')['total_count'].sum()\n",
    "g = grouped.plot(x = 'season',kind = 'bar', figsize = [10,6], rot = 45)\n",
    "g.set_ylim([15,16])"
   ]
  },
  {
   "cell_type": "markdown",
   "metadata": {},
   "source": [
    "## Time of Week"
   ]
  },
  {
   "cell_type": "code",
   "execution_count": 51,
   "metadata": {
    "collapsed": false
   },
   "outputs": [
    {
     "data": {
      "text/plain": [
       "Index([u'date', u'payment_type', u'passenger_count', u'total_count',\n",
       "       u'total_rev', u'tip_percent', u'avg_tip_percent', u'weekday', u'season',\n",
       "       u'snow', u'rain', u'tavg', u'zero_tip', u'total_tip_percent'],\n",
       "      dtype='object')"
      ]
     },
     "execution_count": 51,
     "metadata": {},
     "output_type": "execute_result"
    }
   ],
   "source": [
    "df_clean.columns"
   ]
  },
  {
   "cell_type": "code",
   "execution_count": 52,
   "metadata": {
    "collapsed": false
   },
   "outputs": [
    {
     "data": {
      "text/plain": [
       "weekday\n",
       "1    15.752754\n",
       "2    15.737619\n",
       "3    15.765329\n",
       "4    15.752034\n",
       "5    15.762279\n",
       "6    15.767978\n",
       "7    15.775265\n",
       "dtype: float64"
      ]
     },
     "execution_count": 52,
     "metadata": {},
     "output_type": "execute_result"
    }
   ],
   "source": [
    "df_clean.groupby('weekday')['total_tip_percent'].sum() / df_clean.groupby('weekday')['total_count'].sum()"
   ]
  },
  {
   "cell_type": "code",
   "execution_count": 171,
   "metadata": {
    "collapsed": false
   },
   "outputs": [
    {
     "data": {
      "text/plain": [
       "<matplotlib.lines.Line2D at 0x1336ed890>"
      ]
     },
     "execution_count": 171,
     "metadata": {},
     "output_type": "execute_result"
    },
    {
     "data": {
      "image/png": "[encoded data removed]",
      "text/plain": [
       "<matplotlib.figure.Figure at 0x132509290>"
      ]
     },
     "metadata": {},
     "output_type": "display_data"
    }
   ],
   "source": [
    "grouped = df_clean.groupby('weekday')['total_tip_percent'].sum() / df_clean.groupby('weekday')['total_count'].sum()\n",
    "g = grouped.plot(x = 'weekday',kind = 'bar', figsize = [10,6],rot = 45)\n",
    "g.set_xticklabels(['Sunday','Monday','Tuesday','Wednesday','Thursday','Friday','Saturday'])\n",
    "g.set_ylim([14,16])\n",
    "g.axhline(avg_tip,color='k', linestyle='--')"
   ]
  },
  {
   "cell_type": "markdown",
   "metadata": {},
   "source": [
    "## Depending on Temperature"
   ]
  },
  {
   "cell_type": "code",
   "execution_count": 109,
   "metadata": {
    "collapsed": false
   },
   "outputs": [
    {
     "data": {
      "text/plain": [
       "<matplotlib.text.Text at 0x11e8d5b10>"
      ]
     },
     "execution_count": 109,
     "metadata": {},
     "output_type": "execute_result"
    },
    {
     "data": {
      "image/png": "[encoded data removed]",
      "text/plain": [
       "<matplotlib.figure.Figure at 0x11ed52f50>"
      ]
     },
     "metadata": {},
     "output_type": "display_data"
    }
   ],
   "source": [
    "g = df_clean[['avg_tip_percent','tavg']].plot(x = 'tavg', y = 'avg_tip_percent',kind = 'scatter',figsize = [10,6])\n",
    "g.set_xlabel('average temperature')"
   ]
  },
  {
   "cell_type": "code",
   "execution_count": 55,
   "metadata": {
    "collapsed": false
   },
   "outputs": [],
   "source": [
    "df_clean['tavg_bins'] = pd.cut(df_clean.tavg, bins = 10, precision = 0 ,retbins=True)[0]"
   ]
  },
  {
   "cell_type": "code",
   "execution_count": 101,
   "metadata": {
    "collapsed": false
   },
   "outputs": [
    {
     "data": {
      "text/plain": [
       "<matplotlib.lines.Line2D at 0x11b909fd0>"
      ]
     },
     "execution_count": 101,
     "metadata": {},
     "output_type": "execute_result"
    },
    {
     "data": {
      "image/png": "[encoded data removed]",
      "text/plain": [
       "<matplotlib.figure.Figure at 0x11e179ad0>"
      ]
     },
     "metadata": {},
     "output_type": "display_data"
    }
   ],
   "source": [
    "g = df_clean.boxplot(column = 'avg_tip_percent', by = 'tavg_bins',rot = 45, figsize = [10,6])\n",
    "g.set_ylim([12,20])\n",
    "g.set_xlabel('average_temperature')\n",
    "g.axhline(avg_tip,color='k', linestyle='--')"
   ]
  },
  {
   "cell_type": "markdown",
   "metadata": {},
   "source": [
    "## Rain or Snow"
   ]
  },
  {
   "cell_type": "code",
   "execution_count": 58,
   "metadata": {
    "collapsed": false
   },
   "outputs": [
    {
     "data": {
      "text/plain": [
       "snow\n",
       "0    15.751987\n",
       "1    15.844545\n",
       "dtype: float64"
      ]
     },
     "execution_count": 58,
     "metadata": {},
     "output_type": "execute_result"
    }
   ],
   "source": [
    "df_clean.groupby('snow')['total_tip_percent'].sum() / df_clean.groupby('snow')['total_count'].sum()"
   ]
  },
  {
   "cell_type": "code",
   "execution_count": 59,
   "metadata": {
    "collapsed": false
   },
   "outputs": [
    {
     "data": {
      "text/plain": [
       "rain\n",
       "0    15.767889\n",
       "1    15.739057\n",
       "dtype: float64"
      ]
     },
     "execution_count": 59,
     "metadata": {},
     "output_type": "execute_result"
    }
   ],
   "source": [
    "df_clean.groupby('rain')['total_tip_percent'].sum() / df_clean.groupby('rain')['total_count'].sum()"
   ]
  },
  {
   "cell_type": "code",
   "execution_count": 60,
   "metadata": {
    "collapsed": false
   },
   "outputs": [
    {
     "data": {
      "text/plain": [
       "rain  snow\n",
       "0     0       15.761242\n",
       "      1       15.837220\n",
       "1     0       15.729932\n",
       "      1       15.868239\n",
       "dtype: float64"
      ]
     },
     "execution_count": 60,
     "metadata": {},
     "output_type": "execute_result"
    }
   ],
   "source": [
    "df_clean.groupby(['rain','snow'])['total_tip_percent'].sum() / df_clean.groupby(['rain','snow'])['total_count'].sum()"
   ]
  },
  {
   "cell_type": "code",
   "execution_count": 111,
   "metadata": {
    "collapsed": false
   },
   "outputs": [
    {
     "data": {
      "text/plain": [
       "<matplotlib.lines.Line2D at 0x11e5a5c90>"
      ]
     },
     "execution_count": 111,
     "metadata": {},
     "output_type": "execute_result"
    },
    {
     "data": {
      "image/png": "[encoded data removed]",
      "text/plain": [
       "<matplotlib.figure.Figure at 0x11e568ed0>"
      ]
     },
     "metadata": {},
     "output_type": "display_data"
    }
   ],
   "source": [
    "grouped = df_clean.groupby(['rain','snow'])['total_tip_percent'].sum() / df_clean.groupby(['rain','snow'])['total_count'].sum()\n",
    "g = grouped.plot(x = ['rain','snow'],kind = 'bar',rot = 45, figsize = [10,6])\n",
    "g.set_xticklabels(['no rain or snow','snow','rain','rain and snow'])\n",
    "g.set_ylim([14,16])\n",
    "g.set_xlabel('weather condition')\n",
    "g.axhline(avg_tip,color='k', linestyle='--')"
   ]
  },
  {
   "cell_type": "markdown",
   "metadata": {},
   "source": [
    "## number of passengers"
   ]
  },
  {
   "cell_type": "code",
   "execution_count": 173,
   "metadata": {
    "collapsed": true
   },
   "outputs": [],
   "source": [
    "grouped = df_clean.groupby('passenger_count')['total_tip_percent'].sum() / df_clean.groupby('passenger_count')['total_count'].sum()"
   ]
  },
  {
   "cell_type": "code",
   "execution_count": 174,
   "metadata": {
    "collapsed": false
   },
   "outputs": [
    {
     "data": {
      "text/plain": [
       "<matplotlib.lines.Line2D at 0x133125850>"
      ]
     },
     "execution_count": 174,
     "metadata": {},
     "output_type": "execute_result"
    },
    {
     "data": {
      "image/png": "[encoded data removed]",
      "text/plain": [
       "<matplotlib.figure.Figure at 0x132ee8410>"
      ]
     },
     "metadata": {},
     "output_type": "display_data"
    }
   ],
   "source": [
    "g = grouped[1:-4].plot(x = 'passenger_count', kind = 'bar', figsize = [10,6])\n",
    "g.set_ylim([14,16])\n",
    "g.axhline(avg_tip,color='k', linestyle='--')"
   ]
  },
  {
   "cell_type": "markdown",
   "metadata": {},
   "source": [
    "## Holidays"
   ]
  },
  {
   "cell_type": "code",
   "execution_count": 88,
   "metadata": {
    "collapsed": false
   },
   "outputs": [],
   "source": [
    "subset = df_clean[df_clean.date.isin(['2014-01-01','2013-11-28','2013-12-25'])].copy()"
   ]
  },
  {
   "cell_type": "code",
   "execution_count": 96,
   "metadata": {
    "collapsed": false
   },
   "outputs": [
    {
     "data": {
      "text/plain": [
       "<matplotlib.lines.Line2D at 0x11d821850>"
      ]
     },
     "execution_count": 96,
     "metadata": {},
     "output_type": "execute_result"
    },
    {
     "data": {
      "image/png": "[encoded data removed]",
      "text/plain": [
       "<matplotlib.figure.Figure at 0x11d821790>"
      ]
     },
     "metadata": {},
     "output_type": "display_data"
    }
   ],
   "source": [
    "grouped = subset.groupby('date')['total_tip_percent'].sum()/subset.groupby('date')['total_count'].sum()\n",
    "g = grouped.plot(x = 'date',kind = 'bar', rot = 45, figsize = [10,6])\n",
    "g.set_xticklabels(['new year','thanksgiving','christmas'])\n",
    "g.set_ylim([14,16.5])\n",
    "g.axhline(avg_tip,color='k', linestyle='--')"
   ]
  },
  {
   "cell_type": "code",
   "execution_count": 146,
   "metadata": {
    "collapsed": false
   },
   "outputs": [],
   "source": [
    "df_clean['date'] = pd.to_datetime(df_clean['date'],format=\"%Y/%m/%d\")\n",
    "df_clean['xdate'] = df_clean['date'].astype(str)\n",
    "df_clean = df_clean.sort_values(by = 'date')"
   ]
  },
  {
   "cell_type": "code",
   "execution_count": 151,
   "metadata": {
    "collapsed": false
   },
   "outputs": [
    {
     "data": {
      "text/plain": [
       "<matplotlib.lines.Line2D at 0x12d1ef850>"
      ]
     },
     "execution_count": 151,
     "metadata": {},
     "output_type": "execute_result"
    },
    {
     "data": {
      "image/png": "[encoded data removed]",
      "text/plain": [
       "<matplotlib.figure.Figure at 0x12d1dad50>"
      ]
     },
     "metadata": {},
     "output_type": "display_data"
    }
   ],
   "source": [
    "grouped = df_clean.groupby('date')['total_tip_percent'].sum()/df_clean.groupby('date')['total_count'].sum()\n",
    "g = grouped.plot(x = 'date',kind = 'bar', rot = 45, figsize = [20,6])\n",
    "g.set_ylim([14,16.5])\n",
    "xdates = sorted(list(set(df_clean.date)))\n",
    "g.set_xticks(np.arange(len(xdates))[::20])\n",
    "g.set_xticklabels(xdates[::20])\n",
    "ticklabels = [item.strftime('%Y-%m') for item in xdates[::20]]\n",
    "g.xaxis.set_major_formatter(ticker.FixedFormatter(ticklabels))\n",
    "plt.gcf().autofmt_xdate()\n",
    "g.axhline(avg_tip,color='k', linestyle='--')"
   ]
  },
  {
   "cell_type": "code",
   "execution_count": 166,
   "metadata": {
    "collapsed": false
   },
   "outputs": [
    {
     "data": {
      "image/png": "[encoded data removed]",
      "text/plain": [
       "<matplotlib.figure.Figure at 0x12f4d1550>"
      ]
     },
     "metadata": {},
     "output_type": "display_data"
    }
   ],
   "source": [
    "grouped = df_clean.groupby('date')['total_count'].sum()\n",
    "g = grouped.plot(x = 'date',kind = 'bar', rot = 45, figsize = [20,6])\n",
    "xdates = sorted(list(set(df_clean.date)))\n",
    "g.set_xticks(np.arange(len(xdates))[::20])\n",
    "g.set_xticklabels(xdates[::20])\n",
    "ticklabels = [item.strftime('%Y-%m') for item in xdates[::20]]\n",
    "g.xaxis.set_major_formatter(ticker.FixedFormatter(ticklabels))\n",
    "plt.gcf().autofmt_xdate()"
   ]
  },
  {
   "cell_type": "code",
   "execution_count": 165,
   "metadata": {
    "collapsed": false
   },
   "outputs": [
    {
     "data": {
      "text/plain": [
       "(10000, 30000)"
      ]
     },
     "execution_count": 165,
     "metadata": {},
     "output_type": "execute_result"
    },
    {
     "data": {
      "image/png": "[encoded data removed]",
      "text/plain": [
       "<matplotlib.figure.Figure at 0x131563d50>"
      ]
     },
     "metadata": {},
     "output_type": "display_data"
    }
   ],
   "source": [
    "grouped = df_clean.groupby('weekday')['total_count'].mean()\n",
    "g = grouped.plot(x = 'weekday',figsize = [10,6], kind = 'bar', rot = 0)\n",
    "g.set_xticklabels(['Sunday','Monday','Tuesday','Wednesday','Thursday','Friday','Saturday'])\n",
    "g.set_ylim([10000,30000])"
   ]
  },
  {
   "cell_type": "code",
   "execution_count": null,
   "metadata": {
    "collapsed": true
   },
   "outputs": [],
   "source": []
  }
 ],
 "metadata": {
  "kernelspec": {
   "display_name": "Python 2",
   "language": "python",
   "name": "python2"
  },
  "language_info": {
   "codemirror_mode": {
    "name": "ipython",
    "version": 2
   },
   "file_extension": ".py",
   "mimetype": "text/x-python",
   "name": "python",
   "nbconvert_exporter": "python",
   "pygments_lexer": "ipython2",
   "version": "2.7.11"
  }
 },
 "nbformat": 4,
 "nbformat_minor": 0
}
